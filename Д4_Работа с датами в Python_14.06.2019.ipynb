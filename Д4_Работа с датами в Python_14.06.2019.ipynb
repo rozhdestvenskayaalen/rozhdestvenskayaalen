{
 "cells": [
  {
   "cell_type": "markdown",
   "metadata": {},
   "source": [
    "**Работа с датами в Python**"
   ]
  },
  {
   "cell_type": "markdown",
   "metadata": {},
   "source": [
    "Задание 1\n",
    "Напишите функцию date_range, которая возвращает список дней между датами start_date и end_date. Даты должны вводиться в формате YYYY-MM-DD."
   ]
  },
  {
   "cell_type": "code",
   "execution_count": 12,
   "metadata": {},
   "outputs": [
    {
     "name": "stdout",
     "output_type": "stream",
     "text": [
      "2019-06-14\n",
      "2019-06-15\n",
      "2019-06-16\n",
      "2019-06-17\n",
      "2019-06-18\n",
      "2019-06-19\n",
      "2019-06-20\n",
      "2019-06-21\n",
      "2019-06-22\n",
      "2019-06-23\n",
      "2019-06-24\n",
      "2019-06-25\n",
      "2019-06-26\n",
      "2019-06-27\n",
      "2019-06-28\n",
      "2019-06-29\n",
      "2019-06-30\n",
      "2019-07-01\n"
     ]
    }
   ],
   "source": [
    "from datetime import datetime\n",
    "from datetime import timedelta\n",
    "start_date='2019-06-14'\n",
    "end_date='2019-07-01'\n",
    "start_date_dt=datetime.strptime(start_date, '%Y-%m-%d')\n",
    "end_date_dt=datetime.strptime(end_date, '%Y-%m-%d')\n",
    "current_date_dt=start_date_dt\n",
    "while current_date_dt<=end_date_dt:\n",
    "    print(current_date_dt.strftime('%Y-%m-%d'))\n",
    "    current_date_dt+=timedelta(days=1)"
   ]
  },
  {
   "cell_type": "markdown",
   "metadata": {},
   "source": [
    "Задание 2\n",
    "Дополните функцию из первого задания проверкой на корректность дат. В случае неверного формата или если start_date > end_date должен возвращаться пустой список."
   ]
  },
  {
   "cell_type": "code",
   "execution_count": 13,
   "metadata": {},
   "outputs": [],
   "source": [
    "from datetime import datetime\n",
    "from datetime import timedelta\n",
    "def validation_dates (start_date, end_date):\n",
    "    try:\n",
    "        valid_start_date = datetime.strptime(start_date, '%Y-%m-%d')\n",
    "        valid_start_date = datetime.strptime(end_date, '%Y-%m-%d')\n",
    "        start_date_dt=datetime.strptime(start_date, '%Y-%m-%d')\n",
    "        end_date_dt=datetime.strptime(end_date, '%Y-%m-%d')\n",
    "        current_date_dt=start_date_dt\n",
    "        if start_date_dt<=end_date_dt:\n",
    "            print('даты установлены правильно')\n",
    "            while current_date_dt<=end_date_dt:\n",
    "                print(current_date_dt.strftime('%Y-%m-%d'))\n",
    "                current_date_dt+=timedelta(days=1)\n",
    "        else:\n",
    "            print('перепроверь start_date и end_date')\n",
    "    except ValueError:\n",
    "        print('ошибка в формате данных, должно быть YYYY-MM-DD')"
   ]
  },
  {
   "cell_type": "code",
   "execution_count": 14,
   "metadata": {},
   "outputs": [
    {
     "name": "stdout",
     "output_type": "stream",
     "text": [
      "даты установлены правильно\n",
      "2019-06-14\n",
      "2019-06-15\n",
      "2019-06-16\n",
      "2019-06-17\n",
      "2019-06-18\n",
      "2019-06-19\n",
      "2019-06-20\n",
      "2019-06-21\n",
      "2019-06-22\n",
      "2019-06-23\n",
      "2019-06-24\n",
      "2019-06-25\n",
      "2019-06-26\n",
      "2019-06-27\n",
      "2019-06-28\n",
      "2019-06-29\n",
      "2019-06-30\n",
      "2019-07-01\n",
      "None\n"
     ]
    }
   ],
   "source": [
    "start_date='2019-06-14'\n",
    "end_date='2019-07-01'\n",
    "print(validation_dates(start_date, end_date))"
   ]
  },
  {
   "cell_type": "code",
   "execution_count": 15,
   "metadata": {},
   "outputs": [
    {
     "name": "stdout",
     "output_type": "stream",
     "text": [
      "ошибка в формате данных, должно быть YYYY-MM-DD\n",
      "None\n"
     ]
    }
   ],
   "source": [
    "start_date='2019/06-14'\n",
    "end_date='2019-07-01'\n",
    "print(validation_dates(start_date, end_date))"
   ]
  },
  {
   "cell_type": "markdown",
   "metadata": {},
   "source": [
    "Задание 3\n",
    "Дан поток дат в формате YYYY-MM-DD, в которых встречаются некорректные значения:\n",
    "stream = [‘2018-04-02’, ‘2018-02-29’, ‘2018-19-02’]\n",
    "\n",
    "Напишите функцию, которая проверяет эти даты на корректность. Т. е. для каждой даты возвращает True (дата корректна) или False (некорректная дата)"
   ]
  },
  {
   "cell_type": "code",
   "execution_count": 16,
   "metadata": {},
   "outputs": [],
   "source": [
    "stream=['2018-04-02', '2018-02-29', '2018-19-2']"
   ]
  },
  {
   "cell_type": "code",
   "execution_count": 17,
   "metadata": {},
   "outputs": [],
   "source": [
    "import time\n",
    "def validation_stream_dates (stream):\n",
    "    for dates in stream:\n",
    "        try:\n",
    "            valid_dates = time.strptime(dates, '%Y-%m-%d')\n",
    "            print('True (дата корректна)')\n",
    "        except ValueError:\n",
    "            print('False (некорректная дата)')"
   ]
  },
  {
   "cell_type": "code",
   "execution_count": 18,
   "metadata": {
    "scrolled": true
   },
   "outputs": [
    {
     "name": "stdout",
     "output_type": "stream",
     "text": [
      "True (дата корректна)\n",
      "False (некорректная дата)\n",
      "False (некорректная дата)\n",
      "None\n"
     ]
    }
   ],
   "source": [
    "print(validation_stream_dates (stream))"
   ]
  },
  {
   "cell_type": "markdown",
   "metadata": {},
   "source": [
    "Задание 4\n",
    "Напишите функцию, которая возвращает список дат с 1 по вчерашний день текущего месяца. Если дан 1 день месяца, то возвращается список дней прошлого месяца."
   ]
  },
  {
   "cell_type": "code",
   "execution_count": 61,
   "metadata": {},
   "outputs": [],
   "source": [
    "def listday(current_date):\n",
    "    listday=[]\n",
    "    print('сегодня - ', current_date)\n",
    "    current_day=current_date.day\n",
    "    if current_day==1:\n",
    "        print('выводим список дней прошлого месяца')\n",
    "        x = current_date.replace(month=current_date.month-1)\n",
    "    else:\n",
    "        print('выводим список дат с 1 по вчерашний день текущего месяца')\n",
    "        x = current_date.replace(day=1)\n",
    "    while x<current_date:\n",
    "        listday.append(x.strftime('%Y-%m-%d'))\n",
    "        x+=timedelta(days=1)\n",
    "    return listday"
   ]
  },
  {
   "cell_type": "code",
   "execution_count": 62,
   "metadata": {},
   "outputs": [
    {
     "name": "stdout",
     "output_type": "stream",
     "text": [
      "сегодня -  2019-06-01 00:00:00\n",
      "выводим список дней прошлого месяца\n"
     ]
    },
    {
     "data": {
      "text/plain": [
       "['2019-05-01',\n",
       " '2019-05-02',\n",
       " '2019-05-03',\n",
       " '2019-05-04',\n",
       " '2019-05-05',\n",
       " '2019-05-06',\n",
       " '2019-05-07',\n",
       " '2019-05-08',\n",
       " '2019-05-09',\n",
       " '2019-05-10',\n",
       " '2019-05-11',\n",
       " '2019-05-12',\n",
       " '2019-05-13',\n",
       " '2019-05-14',\n",
       " '2019-05-15',\n",
       " '2019-05-16',\n",
       " '2019-05-17',\n",
       " '2019-05-18',\n",
       " '2019-05-19',\n",
       " '2019-05-20',\n",
       " '2019-05-21',\n",
       " '2019-05-22',\n",
       " '2019-05-23',\n",
       " '2019-05-24',\n",
       " '2019-05-25',\n",
       " '2019-05-26',\n",
       " '2019-05-27',\n",
       " '2019-05-28',\n",
       " '2019-05-29',\n",
       " '2019-05-30',\n",
       " '2019-05-31']"
      ]
     },
     "execution_count": 62,
     "metadata": {},
     "output_type": "execute_result"
    }
   ],
   "source": [
    "current_date=datetime.strptime('2019-06-01', '%Y-%m-%d')\n",
    "listday(current_date)"
   ]
  },
  {
   "cell_type": "code",
   "execution_count": 63,
   "metadata": {},
   "outputs": [
    {
     "name": "stdout",
     "output_type": "stream",
     "text": [
      "сегодня -  2019-06-15\n",
      "выводим список дат с 1 по вчерашний день текущего месяца\n"
     ]
    },
    {
     "data": {
      "text/plain": [
       "['2019-06-01',\n",
       " '2019-06-02',\n",
       " '2019-06-03',\n",
       " '2019-06-04',\n",
       " '2019-06-05',\n",
       " '2019-06-06',\n",
       " '2019-06-07',\n",
       " '2019-06-08',\n",
       " '2019-06-09',\n",
       " '2019-06-10',\n",
       " '2019-06-11',\n",
       " '2019-06-12',\n",
       " '2019-06-13',\n",
       " '2019-06-14']"
      ]
     },
     "execution_count": 63,
     "metadata": {},
     "output_type": "execute_result"
    }
   ],
   "source": [
    "current_date=datetime.now().date()\n",
    "listday(current_date)"
   ]
  },
  {
   "cell_type": "code",
   "execution_count": null,
   "metadata": {},
   "outputs": [],
   "source": []
  },
  {
   "cell_type": "code",
   "execution_count": null,
   "metadata": {},
   "outputs": [],
   "source": []
  }
 ],
 "metadata": {
  "kernelspec": {
   "display_name": "Python 3",
   "language": "python",
   "name": "python3"
  },
  "language_info": {
   "codemirror_mode": {
    "name": "ipython",
    "version": 3
   },
   "file_extension": ".py",
   "mimetype": "text/x-python",
   "name": "python",
   "nbconvert_exporter": "python",
   "pygments_lexer": "ipython3",
   "version": "3.7.3"
  }
 },
 "nbformat": 4,
 "nbformat_minor": 2
}
