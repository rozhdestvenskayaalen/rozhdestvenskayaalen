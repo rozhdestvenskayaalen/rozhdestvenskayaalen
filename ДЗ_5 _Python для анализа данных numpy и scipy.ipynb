{
 "cells": [
  {
   "cell_type": "markdown",
   "metadata": {},
   "source": [
    "# Домашнее задание к занятию «Python для анализа данных: numpy и scipy»"
   ]
  },
  {
   "cell_type": "markdown",
   "metadata": {},
   "source": [
    "**Задание 1**\n",
    "Создайте numpy array с элементами от числа N до 0 (например, для N = 10 это будет array([9, 8, 7, 6, 5, 4, 3, 2, 1, 0]))."
   ]
  },
  {
   "cell_type": "code",
   "execution_count": 131,
   "metadata": {},
   "outputs": [
    {
     "data": {
      "text/plain": [
       "array([9., 8., 7., 6., 5., 4., 3., 2., 1., 0.])"
      ]
     },
     "execution_count": 131,
     "metadata": {},
     "output_type": "execute_result"
    }
   ],
   "source": [
    "N=10\n",
    "np.linspace(N-1, 0, N)"
   ]
  },
  {
   "cell_type": "markdown",
   "metadata": {},
   "source": [
    "**Задание 2**\n",
    "Создайте диагональную матрицу с элементами от N до 0. Посчитайте сумму ее значений на диагонали."
   ]
  },
  {
   "cell_type": "code",
   "execution_count": 132,
   "metadata": {},
   "outputs": [
    {
     "name": "stdout",
     "output_type": "stream",
     "text": [
      "[[10.  0.  0.  0.  0.  0.  0.  0.  0.  0.]\n",
      " [ 0. 10.  0.  0.  0.  0.  0.  0.  0.  0.]\n",
      " [ 0.  0. 10.  0.  0.  0.  0.  0.  0.  0.]\n",
      " [ 0.  0.  0. 10.  0.  0.  0.  0.  0.  0.]\n",
      " [ 0.  0.  0.  0. 10.  0.  0.  0.  0.  0.]\n",
      " [ 0.  0.  0.  0.  0. 10.  0.  0.  0.  0.]\n",
      " [ 0.  0.  0.  0.  0.  0. 10.  0.  0.  0.]\n",
      " [ 0.  0.  0.  0.  0.  0.  0. 10.  0.  0.]\n",
      " [ 0.  0.  0.  0.  0.  0.  0.  0. 10.  0.]\n",
      " [ 0.  0.  0.  0.  0.  0.  0.  0.  0. 10.]]\n"
     ]
    }
   ],
   "source": [
    "N=10\n",
    "a = np.zeros((N, N))\n",
    "i,j = np.indices(a.shape)\n",
    "a[i==j] = N\n",
    "print(a)"
   ]
  },
  {
   "cell_type": "code",
   "execution_count": 133,
   "metadata": {},
   "outputs": [
    {
     "data": {
      "text/plain": [
       "array([[9., 0., 0., 0., 0., 0., 0., 0., 0., 0.],\n",
       "       [0., 8., 0., 0., 0., 0., 0., 0., 0., 0.],\n",
       "       [0., 0., 7., 0., 0., 0., 0., 0., 0., 0.],\n",
       "       [0., 0., 0., 6., 0., 0., 0., 0., 0., 0.],\n",
       "       [0., 0., 0., 0., 5., 0., 0., 0., 0., 0.],\n",
       "       [0., 0., 0., 0., 0., 4., 0., 0., 0., 0.],\n",
       "       [0., 0., 0., 0., 0., 0., 3., 0., 0., 0.],\n",
       "       [0., 0., 0., 0., 0., 0., 0., 2., 0., 0.],\n",
       "       [0., 0., 0., 0., 0., 0., 0., 0., 1., 0.],\n",
       "       [0., 0., 0., 0., 0., 0., 0., 0., 0., 0.]])"
      ]
     },
     "execution_count": 133,
     "metadata": {},
     "output_type": "execute_result"
    }
   ],
   "source": [
    "N=10\n",
    "np.diag(np.linspace(N-1, 0, N))"
   ]
  },
  {
   "cell_type": "markdown",
   "metadata": {},
   "source": [
    "**Задание 3**\n",
    "Скачайте с сайта https://grouplens.org/datasets/movielens/ датасет любого размера. Определите какому фильму было выставлено больше всего оценок 5.0."
   ]
  },
  {
   "cell_type": "code",
   "execution_count": 134,
   "metadata": {},
   "outputs": [
    {
     "data": {
      "text/plain": [
       "318    153\n",
       "Name: movieId, dtype: int64"
      ]
     },
     "execution_count": 134,
     "metadata": {},
     "output_type": "execute_result"
    }
   ],
   "source": [
    "import pandas as pd\n",
    "ratings = pd.read_csv('ratings.csv')\n",
    "import pandas as pd\n",
    "#ratings.head(5)\n",
    "ratings_filtr=ratings[ratings['rating']==5.0]\n",
    "#ratings_filtr.head(5)\n",
    "film_leader=ratings_filtr['movieId'].value_counts()\n",
    "film_leader.head(1)"
   ]
  },
  {
   "cell_type": "markdown",
   "metadata": {},
   "source": [
    "**Задание 4**\n",
    "По данным файла power.csv посчитайте суммарное потребление стран Прибалтики (Латвия, Литва и Эстония) категорий 4, 12 и 21 за период с 2005 по 2010 года. Не учитывайте в расчетах отрицательные значения quantity."
   ]
  },
  {
   "cell_type": "code",
   "execution_count": 135,
   "metadata": {},
   "outputs": [
    {
     "name": "stdout",
     "output_type": "stream",
     "text": [
      "240580.0\n"
     ]
    }
   ],
   "source": [
    "import pandas as pd\n",
    "power = pd.read_csv('power.csv')\n",
    "#power.head(5)\n",
    "fc = power[ (power['country']=='Latvia') | (power['country']=='Lithuania') | (power['country']=='Estonia')]\n",
    "#fc.head(10)\n",
    "fc1= fc[(fc['category']==4)| (fc['category']==12)| (fc['category']==21)]\n",
    "#fc1.head(10)\n",
    "fc2= fc1[(fc1['year']>=2005)& (fc1['year']<=2010)]\n",
    "#fc2.head(5)\n",
    "fc3=fc2[fc2['quantity']>=0]\n",
    "fc3.head(5)\n",
    "sum_power=fc3['quantity'].sum()\n",
    "print(sum_power)"
   ]
  },
  {
   "cell_type": "markdown",
   "metadata": {},
   "source": [
    "**Задание 5**\n",
    "Решите систему уравнений:\n",
    "4x + 2y + z = 4\n",
    "x + 3y = 12\n",
    "5y + 4z = -3"
   ]
  },
  {
   "cell_type": "code",
   "execution_count": 136,
   "metadata": {},
   "outputs": [
    {
     "data": {
      "text/plain": [
       "array([-5.18181818,  5.72727273, 13.27272727])"
      ]
     },
     "execution_count": 136,
     "metadata": {},
     "output_type": "execute_result"
    }
   ],
   "source": [
    "import numpy as np\n",
    "from numpy import linalg\n",
    "a = np.array( [ [4, 2, 1], [1, 3, 0], [5, 4, 0]] )\n",
    "b = np.array( [4, 12, -3])\n",
    "linalg.solve(a, b)"
   ]
  },
  {
   "cell_type": "code",
   "execution_count": 137,
   "metadata": {},
   "outputs": [
    {
     "data": {
      "text/plain": [
       "True"
      ]
     },
     "execution_count": 137,
     "metadata": {},
     "output_type": "execute_result"
    }
   ],
   "source": [
    "np.allclose( np.dot(a, linalg.solve(a, b)), b )"
   ]
  }
 ],
 "metadata": {
  "kernelspec": {
   "display_name": "Python 3",
   "language": "python",
   "name": "python3"
  },
  "language_info": {
   "codemirror_mode": {
    "name": "ipython",
    "version": 3
   },
   "file_extension": ".py",
   "mimetype": "text/x-python",
   "name": "python",
   "nbconvert_exporter": "python",
   "pygments_lexer": "ipython3",
   "version": "3.7.3"
  }
 },
 "nbformat": 4,
 "nbformat_minor": 2
}
